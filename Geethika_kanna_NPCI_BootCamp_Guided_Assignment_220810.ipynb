{
  "nbformat": 4,
  "nbformat_minor": 0,
  "metadata": {
    "colab": {
      "name": "Geethika_kanna_NPCI_BootCamp_Guided_Assignment_220810.ipynb",
      "provenance": [],
      "collapsed_sections": []
    },
    "kernelspec": {
      "name": "python3",
      "display_name": "Python 3"
    },
    "language_info": {
      "name": "python"
    }
  },
  "cells": [
    {
      "cell_type": "code",
      "source": [
        "#Geethika Kanna\n",
        "#Guided_Assignment_220810"
      ],
      "metadata": {
        "id": "aPgIhn8xy3cC"
      },
      "execution_count": null,
      "outputs": []
    },
    {
      "cell_type": "code",
      "source": [
        "'''\n",
        "Numpy Assignments\n",
        "Write a code that takes in a number x from the user and creates a 1x20 array with random numbers ranging from 0 to x\n",
        "Write a code that creates a 4x5 array in which numbers ranging between 300 and 500 such that the difference between elements is 10\n",
        "Write a code that creates a 20x20 numpy array of random values that ranges from -1000 to 1000 and obtain the maximum, minimum, and mean values\n",
        "In the following matrix, replace the last row with -1 Multiply the 2x2 matrix in the upper right corner by 2 X = [2 30 20 -2 -4] [3 4 40 -3 -2] [-3 4 -6 90 10] [25 45 34 22 12] [13 24 22 32 37]\n",
        "In the following matrix, replace negative elements by 0 and replace odd elements with 25 X = [2 30 20 -2 -4] [3 4 40 -3 -2] [-3 4 -6 90 10] [25 45 34 22 12] [13 24 22 32 37]\n",
        "'''"
      ],
      "metadata": {
        "id": "gcRjoDp7d0PW"
      },
      "execution_count": null,
      "outputs": []
    },
    {
      "cell_type": "code",
      "source": [
        "import numpy as np"
      ],
      "metadata": {
        "id": "UE6xCMLBsegN"
      },
      "execution_count": null,
      "outputs": []
    },
    {
      "cell_type": "code",
      "source": [
        "#Assignment1\n",
        "\n",
        "x = int(input())\n",
        "arr = np.random.randint(0,x,(1,20))\n",
        "print('Array of size 1x20 with random numbers ranging from 0 to',x)\n",
        "print(arr)"
      ],
      "metadata": {
        "colab": {
          "base_uri": "https://localhost:8080/"
        },
        "id": "EIRyxO-hsZmP",
        "outputId": "41f895b6-400f-4b12-c894-e789d17dedee"
      },
      "execution_count": null,
      "outputs": [
        {
          "output_type": "stream",
          "name": "stdout",
          "text": [
            "8\n",
            "Array of size 1x20 with random numbers ranging from 0 to 8\n",
            "[[3 6 5 0 5 1 5 6 6 3 4 0 5 1 7 7 5 0 2 6]]\n"
          ]
        }
      ]
    },
    {
      "cell_type": "code",
      "source": [
        "#Assignment2\n",
        "\n",
        "arr = np.arange(300,500,10)\n",
        "arr1 = arr.reshape(4,5)\n",
        "print('Array of size 4x5 in which numbers ranging between 300 and 500 and the difference between elements is 10')\n",
        "print(arr1)"
      ],
      "metadata": {
        "colab": {
          "base_uri": "https://localhost:8080/"
        },
        "id": "wYIsJt2csnZR",
        "outputId": "860a8450-317e-468b-f599-ec908b3ec8ce"
      },
      "execution_count": null,
      "outputs": [
        {
          "output_type": "stream",
          "name": "stdout",
          "text": [
            "Array of size 4x5 in which numbers ranging between 300 and 500 and the difference between elements is 10\n",
            "[[300 310 320 330 340]\n",
            " [350 360 370 380 390]\n",
            " [400 410 420 430 440]\n",
            " [450 460 470 480 490]]\n"
          ]
        }
      ]
    },
    {
      "cell_type": "code",
      "source": [
        "#Assignment3\n",
        "\n",
        "arr = np.random.randint(-1000,1000,(20,20))\n",
        "print('Array of size 20x20 having random values that ranges from -1000 to 1000')\n",
        "print(arr)\n",
        "print('maximum value:',np.max(arr))\n",
        "print('minimum value:',np.min(arr))\n",
        "print('mean value:',np.mean(arr))"
      ],
      "metadata": {
        "colab": {
          "base_uri": "https://localhost:8080/"
        },
        "id": "FW6sVy7CsxSY",
        "outputId": "e3913646-c845-45fb-9797-45f646f5b5ac"
      },
      "execution_count": null,
      "outputs": [
        {
          "output_type": "stream",
          "name": "stdout",
          "text": [
            "Array of size 20x20 having random values that ranges from -1000 to 1000\n",
            "[[-998 -284 -320  570  792  344 -965 -769  592 -685 -783  352 -528  171\n",
            "   564  963  459 -728  183 -994]\n",
            " [ 349 -304 -338  379 -808 -524  922  673  426 -933 -850 -489 -174 -352\n",
            "   292  383 -388  239 -856  448]\n",
            " [-167 -708 -483 -513 -539 -761 -981  -10  415 -956  521  800  836  869\n",
            "  -637  959   46 -633 -239 -745]\n",
            " [ 515  943   18  345  847  534 -836 -629 -896  352  753 -540  825 -865\n",
            "  -807  255 -201  533  128 -998]\n",
            " [ 216 -814  359 -851 -967  611  757 -489 -415 -270   49  503 -729  616\n",
            "   183  773 -725 -305 -637  -31]\n",
            " [-510  102 -242 -514 -509  508  100 -536  595  791  157   10  995 -507\n",
            "   533  501  543 -869  896  321]\n",
            " [-171  727 -384 -543 -289  382  763  -38 -643  157 -517 -246 -637  104\n",
            "   421  503 -200 -303 -450 -983]\n",
            " [ 104   40  -84 -630  838 -263 -691 -623  593  817 -878  686  570 -115\n",
            "   659  839   97  592 -313 -303]\n",
            " [ 539  779  540 -108 -316  899  796  861  779 -913 -111 -471 -757 -106\n",
            "   -67  803 -746 -261  247  -78]\n",
            " [ 363 -527 -675 -626  346 -276  800  433 -581  544  430 -239 -231   -1\n",
            "   234  -17  177 -623 -307 -147]\n",
            " [ 223  970  930 -278  462 -607  748 -218  255 -294  520   57  339  844\n",
            "    -7  -92 -359 -270  284  648]\n",
            " [-380  698 -818 -533 -814  323 -833  686  756 -819   88 -470 -914 -496\n",
            "   898  584  423 -821  213 -620]\n",
            " [ 478  467 -667 -103  180 -526  -58 -517 -911  675  -28  -27 -669  740\n",
            "  -461 -116  907 -274 -849 -304]\n",
            " [ 526  367 -146  -96  643 -729 -388 -523  746  752 -146  805  938  958\n",
            "   798 -854  988    2 -678 -438]\n",
            " [ 218  500  556  481  532  138 -401  388  127  159 -311  497  775 -199\n",
            "   781 -926   48  368   85 -424]\n",
            " [ 718  105  -99  188 -373 -425  281  477  911  884  174  874 -712  404\n",
            "  -764 -619 -383  689 -262 -638]\n",
            " [ 625 -169  387  799  816  668  780  -16 -207  544  109  151  720 -420\n",
            "  -303 -654  610 -618  158 -109]\n",
            " [ 431  169  488 -693  -20 -427 -493  930  689  361  530 -195 -374 -556\n",
            "  -672 -641 -492  882 -778  201]\n",
            " [-380 -379 -784  973 -204 -313 -591 -349 -481 -929  284 -389 -272 -900\n",
            "   147  128 -310  226  590  278]\n",
            " [-356  806  217  308 -364 -224  409 -112 -292  800 -417  -53 -693 -682\n",
            "   616 -520 -646 -250  568 -699]]\n",
            "maximum value: 995\n",
            "minimum value: -998\n",
            "mean value: 0.29\n"
          ]
        }
      ]
    },
    {
      "cell_type": "code",
      "source": [
        "#Assignment4\n",
        "\n",
        "X =np.array([[2,30,20,-2,-4], \n",
        "[3, 4, 40, -3, -2], \n",
        "[-3, 4, -6, 90, 10],\n",
        "[25, 45, 34, 22, 12],\n",
        "[13, 24, 22, 32, 37]])\n",
        "X[4]=-1\n",
        "print('Array after replacing last row with -1')\n",
        "print(X)\n",
        "print('After multiplication of 2x2 matrix in the upper right corner by 2')\n",
        "print(X[:2,3:]*2)"
      ],
      "metadata": {
        "colab": {
          "base_uri": "https://localhost:8080/"
        },
        "id": "tlLGd246s33I",
        "outputId": "b6af2d27-8037-4b43-ec86-5f8f6899a7ec"
      },
      "execution_count": null,
      "outputs": [
        {
          "output_type": "stream",
          "name": "stdout",
          "text": [
            "Array after replacing last row with -1\n",
            "[[ 2 30 20 -2 -4]\n",
            " [ 3  4 40 -3 -2]\n",
            " [-3  4 -6 90 10]\n",
            " [25 45 34 22 12]\n",
            " [-1 -1 -1 -1 -1]]\n",
            "After multiplication of 2x2 matrix in the upper right corner by 2\n",
            "[[-4 -8]\n",
            " [-6 -4]]\n"
          ]
        }
      ]
    },
    {
      "cell_type": "code",
      "source": [
        "#Assignment5\n",
        "\n",
        "X =np.array([[2,30,20,-2,-4],[3,4,40,-3,-2], [-3, 4, -6, 90, 10], [25, 45, 34, 22, 12], [13, 24, 22, 32, 37]])\n",
        "X1=np.where(X<0, 0, X)\n",
        "print('Array after replacing negative elements by 0')\n",
        "print(X1)\n",
        "X2=np.where(X%2!=0, 25, X)\n",
        "print('Array after replacing odd elements with 25')\n",
        "print(X2)\n",
        "X2=np.where(X%2!=0, 25, X1)\n",
        "print('Array after replacing both negative elements by 0 and odd elements with 25')\n",
        "print(X2)"
      ],
      "metadata": {
        "colab": {
          "base_uri": "https://localhost:8080/"
        },
        "id": "05SwUhdvtFYb",
        "outputId": "37358666-ce86-478b-b6d4-863054fe7c09"
      },
      "execution_count": null,
      "outputs": [
        {
          "output_type": "stream",
          "name": "stdout",
          "text": [
            "Array after replacing negative elements by 0\n",
            "[[ 2 30 20  0  0]\n",
            " [ 3  4 40  0  0]\n",
            " [ 0  4  0 90 10]\n",
            " [25 45 34 22 12]\n",
            " [13 24 22 32 37]]\n",
            "Array after replacing odd elements with 25\n",
            "[[ 2 30 20 -2 -4]\n",
            " [25  4 40 25 -2]\n",
            " [25  4 -6 90 10]\n",
            " [25 25 34 22 12]\n",
            " [25 24 22 32 25]]\n",
            "Array after replacing both negative elements by 0 and odd elements with 25\n",
            "[[ 2 30 20  0  0]\n",
            " [25  4 40 25  0]\n",
            " [25  4  0 90 10]\n",
            " [25 25 34 22 12]\n",
            " [25 24 22 32 25]]\n"
          ]
        }
      ]
    }
  ]
}